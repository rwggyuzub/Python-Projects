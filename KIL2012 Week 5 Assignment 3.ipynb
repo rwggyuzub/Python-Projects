{
 "cells": [
  {
   "cell_type": "code",
   "execution_count": 39,
   "id": "0c435f2c",
   "metadata": {},
   "outputs": [],
   "source": [
    "def simple_calculator():\n",
    "\n",
    "    try:\n",
    "        user_input1 = float(input(\"Enter the first number: \"))\n",
    "    except ValueError:\n",
    "        print(\"Please enter a valid number.\")\n",
    "                     \n",
    "    try:\n",
    "        user_input2 = float(input(\"Enter the second number: \"))\n",
    "    except ValueError:\n",
    "        print(\"Please enter a valid number.\")\n",
    "    \n",
    "    try:\n",
    "        user_input3 = input(\"Please choose a mathematical operation: addition, subtraction, multiplication or division. \")\n",
    "        if user_input3==\"addition\":\n",
    "            result=user_input1+user_input2\n",
    "            \n",
    "        elif user_input3==\"subtraction\":\n",
    "            result=user_input1-user_input2\n",
    "            \n",
    "        elif user_input3==\"multiplication\":\n",
    "            result=user_input1*user_input2 \n",
    "            \n",
    "        elif user_input3==\"division\":\n",
    "            try:\n",
    "                result=user_input1/user_input2\n",
    "            except ZeroDivisionError:\n",
    "                print(\"Division by zero is not allowed.\")\n",
    "        return result\n",
    "    except:\n",
    "        print(\"Please enter a valid mathematical operation.\")"
   ]
  },
  {
   "cell_type": "code",
   "execution_count": 12,
   "id": "5a05f2d7",
   "metadata": {},
   "outputs": [
    {
     "ename": "KeyboardInterrupt",
     "evalue": "Interrupted by user",
     "output_type": "error",
     "traceback": [
      "\u001b[0;31m---------------------------------------------------------------------------\u001b[0m",
      "\u001b[0;31mKeyboardInterrupt\u001b[0m                         Traceback (most recent call last)",
      "Cell \u001b[0;32mIn[12], line 1\u001b[0m\n\u001b[0;32m----> 1\u001b[0m \u001b[38;5;28mprint\u001b[39m(simple_calculator())\n",
      "Cell \u001b[0;32mIn[11], line 6\u001b[0m, in \u001b[0;36msimple_calculator\u001b[0;34m()\u001b[0m\n\u001b[1;32m      3\u001b[0m \u001b[38;5;28;01mwhile\u001b[39;00m \u001b[38;5;28;01mTrue\u001b[39;00m:\n\u001b[1;32m      4\u001b[0m     \u001b[38;5;28;01mtry\u001b[39;00m:\n\u001b[1;32m      5\u001b[0m         \u001b[38;5;66;03m#Ask the user for two numbers and an operation\u001b[39;00m\n\u001b[0;32m----> 6\u001b[0m         num1\u001b[38;5;241m=\u001b[39m\u001b[38;5;28mfloat\u001b[39m(\u001b[38;5;28minput\u001b[39m(\u001b[38;5;124m\"\u001b[39m\u001b[38;5;124mEnter the first number: \u001b[39m\u001b[38;5;124m\"\u001b[39m))\n\u001b[1;32m      7\u001b[0m         num2\u001b[38;5;241m=\u001b[39m\u001b[38;5;28mfloat\u001b[39m(\u001b[38;5;28minput\u001b[39m(\u001b[38;5;124m\"\u001b[39m\u001b[38;5;124mEnter the second number: \u001b[39m\u001b[38;5;124m\"\u001b[39m))\n\u001b[1;32m      8\u001b[0m         operation\u001b[38;5;241m=\u001b[39m\u001b[38;5;28minput\u001b[39m(\u001b[38;5;124m\"\u001b[39m\u001b[38;5;124mEnter an operation(+,-,*,/): \u001b[39m\u001b[38;5;124m\"\u001b[39m)\n",
      "File \u001b[0;32m~/anaconda3/lib/python3.11/site-packages/ipykernel/kernelbase.py:1202\u001b[0m, in \u001b[0;36mKernel.raw_input\u001b[0;34m(self, prompt)\u001b[0m\n\u001b[1;32m   1200\u001b[0m     msg \u001b[38;5;241m=\u001b[39m \u001b[38;5;124m\"\u001b[39m\u001b[38;5;124mraw_input was called, but this frontend does not support input requests.\u001b[39m\u001b[38;5;124m\"\u001b[39m\n\u001b[1;32m   1201\u001b[0m     \u001b[38;5;28;01mraise\u001b[39;00m StdinNotImplementedError(msg)\n\u001b[0;32m-> 1202\u001b[0m \u001b[38;5;28;01mreturn\u001b[39;00m \u001b[38;5;28mself\u001b[39m\u001b[38;5;241m.\u001b[39m_input_request(\n\u001b[1;32m   1203\u001b[0m     \u001b[38;5;28mstr\u001b[39m(prompt),\n\u001b[1;32m   1204\u001b[0m     \u001b[38;5;28mself\u001b[39m\u001b[38;5;241m.\u001b[39m_parent_ident[\u001b[38;5;124m\"\u001b[39m\u001b[38;5;124mshell\u001b[39m\u001b[38;5;124m\"\u001b[39m],\n\u001b[1;32m   1205\u001b[0m     \u001b[38;5;28mself\u001b[39m\u001b[38;5;241m.\u001b[39mget_parent(\u001b[38;5;124m\"\u001b[39m\u001b[38;5;124mshell\u001b[39m\u001b[38;5;124m\"\u001b[39m),\n\u001b[1;32m   1206\u001b[0m     password\u001b[38;5;241m=\u001b[39m\u001b[38;5;28;01mFalse\u001b[39;00m,\n\u001b[1;32m   1207\u001b[0m )\n",
      "File \u001b[0;32m~/anaconda3/lib/python3.11/site-packages/ipykernel/kernelbase.py:1245\u001b[0m, in \u001b[0;36mKernel._input_request\u001b[0;34m(self, prompt, ident, parent, password)\u001b[0m\n\u001b[1;32m   1242\u001b[0m \u001b[38;5;28;01mexcept\u001b[39;00m \u001b[38;5;167;01mKeyboardInterrupt\u001b[39;00m:\n\u001b[1;32m   1243\u001b[0m     \u001b[38;5;66;03m# re-raise KeyboardInterrupt, to truncate traceback\u001b[39;00m\n\u001b[1;32m   1244\u001b[0m     msg \u001b[38;5;241m=\u001b[39m \u001b[38;5;124m\"\u001b[39m\u001b[38;5;124mInterrupted by user\u001b[39m\u001b[38;5;124m\"\u001b[39m\n\u001b[0;32m-> 1245\u001b[0m     \u001b[38;5;28;01mraise\u001b[39;00m \u001b[38;5;167;01mKeyboardInterrupt\u001b[39;00m(msg) \u001b[38;5;28;01mfrom\u001b[39;00m \u001b[38;5;28;01mNone\u001b[39;00m\n\u001b[1;32m   1246\u001b[0m \u001b[38;5;28;01mexcept\u001b[39;00m \u001b[38;5;167;01mException\u001b[39;00m:\n\u001b[1;32m   1247\u001b[0m     \u001b[38;5;28mself\u001b[39m\u001b[38;5;241m.\u001b[39mlog\u001b[38;5;241m.\u001b[39mwarning(\u001b[38;5;124m\"\u001b[39m\u001b[38;5;124mInvalid Message:\u001b[39m\u001b[38;5;124m\"\u001b[39m, exc_info\u001b[38;5;241m=\u001b[39m\u001b[38;5;28;01mTrue\u001b[39;00m)\n",
      "\u001b[0;31mKeyboardInterrupt\u001b[0m: Interrupted by user"
     ]
    }
   ],
   "source": [
    "print(simple_calculator())"
   ]
  },
  {
   "cell_type": "code",
   "execution_count": null,
   "id": "1131d2bc",
   "metadata": {},
   "outputs": [],
   "source": [
    "#Tutor answer\n",
    "def simple_calculator():\n",
    "    while True:\n",
    "        try:\n",
    "            #Ask the user for two numbers and an operation\n",
    "            num1=float(input(\"Enter the first number: \"))\n",
    "            num2=float(input(\"Enter the second number: \"))\n",
    "            operation=input(\"Enter an operation(+,-,*,/): \")\n",
    "            \n",
    "            #perform calculation based on the operatioon\n",
    "            if operation==\"+\":\n",
    "                result=num1+num2\n",
    "            elif operation==\"-\":\n",
    "                result=num1-num2\n",
    "            elif operation==\"*\":\n",
    "                result=num1*num2\n",
    "            elif operation==\"/\":\n",
    "                result=num1/num2\n",
    "            else:\n",
    "                print(\"Invalid operation. Please choose +,-,* or /.\")\n",
    "                continue\n",
    "            \n",
    "            #Display the result\n",
    "            print(\"The result is:\" +result)\n",
    "            break\n",
    "        \n",
    "        except ValueError:\n",
    "                print(\"Invalid input. Please enter a number.\")\n",
    "        except ZeroDivisionError:\n",
    "            print(\"Error: Cannor divide by zero.\")"
   ]
  },
  {
   "cell_type": "code",
   "execution_count": null,
   "id": "7847f1ff",
   "metadata": {},
   "outputs": [
    {
     "name": "stdout",
     "output_type": "stream",
     "text": [
      "Enter the first number: 1\n",
      "Enter the second number: 2\n",
      "Enter an operation(+,-,*,/): /\n",
      "The result is: (result)\n"
     ]
    }
   ],
   "source": [
    "print(simple_calculator())"
   ]
  },
  {
   "cell_type": "code",
   "execution_count": null,
   "id": "95bee374",
   "metadata": {},
   "outputs": [],
   "source": []
  }
 ],
 "metadata": {
  "kernelspec": {
   "display_name": "Python 3 (ipykernel)",
   "language": "python",
   "name": "python3"
  },
  "language_info": {
   "codemirror_mode": {
    "name": "ipython",
    "version": 3
   },
   "file_extension": ".py",
   "mimetype": "text/x-python",
   "name": "python",
   "nbconvert_exporter": "python",
   "pygments_lexer": "ipython3",
   "version": "3.11.5"
  }
 },
 "nbformat": 4,
 "nbformat_minor": 5
}
