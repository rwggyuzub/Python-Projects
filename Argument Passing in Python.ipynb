{
 "cells": [
  {
   "cell_type": "markdown",
   "id": "359e9100",
   "metadata": {},
   "source": [
    "# Positional Arguments"
   ]
  },
  {
   "cell_type": "code",
   "execution_count": 2,
   "id": "7a623621",
   "metadata": {
    "scrolled": true
   },
   "outputs": [
    {
     "name": "stdout",
     "output_type": "stream",
     "text": [
      "Alice is enrolled in Mathematics class.\n"
     ]
    }
   ],
   "source": [
    "def student_information(class_name,student_name):\n",
    "    #display information about a student and their class\n",
    "    print(student_name+\" is enrolled in \"+class_name+\" class.\")\n",
    "#positional arguments:\n",
    "student_information('Mathematics','Alice')"
   ]
  },
  {
   "cell_type": "markdown",
   "id": "f61b47ed",
   "metadata": {},
   "source": [
    "# Keyword Arguments"
   ]
  },
  {
   "cell_type": "code",
   "execution_count": 5,
   "id": "af1c9656",
   "metadata": {},
   "outputs": [],
   "source": [
    "def student_information(class_name,student_name):\n",
    "    print(student_name+\" is enrolled in \"+class_name+\" class.\")"
   ]
  },
  {
   "cell_type": "code",
   "execution_count": 12,
   "id": "7965ed05",
   "metadata": {},
   "outputs": [
    {
     "name": "stdout",
     "output_type": "stream",
     "text": [
      "Alice is enrolled in Mathematics class.\n"
     ]
    }
   ],
   "source": [
    "student_information(student_name='Alice', class_name='Mathematics')"
   ]
  },
  {
   "cell_type": "markdown",
   "id": "a565d744",
   "metadata": {},
   "source": [
    "# Default Arguments"
   ]
  },
  {
   "cell_type": "code",
   "execution_count": 3,
   "id": "a76bebff",
   "metadata": {},
   "outputs": [],
   "source": [
    "def enroll_student(student_name, course=\"Introdution to Python\"):\n",
    "    #enroll a student in a course wtih a default option.\n",
    "    print(\"Student Name: \"+student_name)\n",
    "    print(\"Enrolled Course: \"+course)"
   ]
  },
  {
   "cell_type": "code",
   "execution_count": 13,
   "id": "1fb4e700",
   "metadata": {},
   "outputs": [
    {
     "name": "stdout",
     "output_type": "stream",
     "text": [
      "Enrolling Lina with the following details:\n",
      "- Course: Math\n"
     ]
    }
   ],
   "source": [
    "enroll_student(student_name=\"Lina\",course='Math')"
   ]
  },
  {
   "cell_type": "markdown",
   "id": "4414bcad",
   "metadata": {},
   "source": [
    "# Variable-length Arguments, *args"
   ]
  },
  {
   "cell_type": "code",
   "execution_count": 16,
   "id": "49368f4c",
   "metadata": {},
   "outputs": [
    {
     "name": "stdout",
     "output_type": "stream",
     "text": [
      "Student: Emily\n",
      "Enrolled in:\n",
      "- Biology 101\n",
      "- Chemistry 101\n",
      "- Physics 101\n"
     ]
    }
   ],
   "source": [
    "def enroll_in_courses(student_name, *courses):\n",
    "    # Enroll a student in multiple courses.\n",
    "    print(\"Student: \" + student_name)\n",
    "    print(\"Enrolled in:\")\n",
    "    for course in courses:\n",
    "        print(\"- \" + course)\n",
    "# Example of enrolling a student in three different courses:\n",
    "enroll_in_courses('Emily', 'Biology 101', 'Chemistry 101', 'Physics 101')"
   ]
  },
  {
   "cell_type": "markdown",
   "id": "a5ca2aae",
   "metadata": {},
   "source": [
    "# Variable-length Arguments, **kwargs"
   ]
  },
  {
   "cell_type": "code",
   "execution_count": 17,
   "id": "4598ca59",
   "metadata": {},
   "outputs": [
    {
     "name": "stdout",
     "output_type": "stream",
     "text": [
      "Enrolling Smith with the following details:\n",
      "- Course: Algebra II\n",
      "- Semester: One\n",
      "- Payment Method: Credit Card\n"
     ]
    }
   ],
   "source": [
    "def enroll_student(student_name, **details):\n",
    "     # Enroll a student with additional details.\n",
    "    print(\"Enrolling \" + student_name + \" with the following details:\")\n",
    "    \n",
    "    for detail, value in details.items():\n",
    "        print(\"- \" + detail.replace('_', ' ').title() + \": \" + str(value))\n",
    "\n",
    "        # Example of enrolling a student with additional details:\n",
    "enroll_student('Smith', course='Algebra II', semester='One', payment_method='Credit Card')"
   ]
  },
  {
   "cell_type": "markdown",
   "id": "93809060",
   "metadata": {},
   "source": [
    "# Library Book Management"
   ]
  },
  {
   "cell_type": "code",
   "execution_count": 12,
   "id": "f21b62d1",
   "metadata": {},
   "outputs": [
    {
     "name": "stdout",
     "output_type": "stream",
     "text": [
      "Checkout Pocessed by: Sarah Connor\n",
      "Books Checked Out: \n",
      "-1984\n",
      "-Brave New World\n",
      "Checkout Duration: 3 weeks\n",
      "Additional Checkout Details: \n",
      "-Late Fee: $0.25\n",
      "-Renewals Allowed: 2\n",
      "Special Conditions for Checkout: \n",
      "-Handle with care\n"
     ]
    }
   ],
   "source": [
    " def checkoutbooks(librarian_name,*books,duration=\"2 weeks\",specials,**additional):\n",
    "    print(\"Checkout Pocessed by: \"+ librarian_name)\n",
    "    \n",
    "    print(\"Books Checked Out: \")\n",
    "    for book in books:\n",
    "        print(\"-\"+book)\n",
    "        \n",
    "    print(\"Checkout Duration: \"+ duration)\n",
    "    \n",
    "    print(\"Additional Checkout Details: \")\n",
    "    for add,value in additional.items():\n",
    "        print(\"-\"+add.replace('_', ' ').title()+\": \" + str(value))\n",
    "        \n",
    "    print(\"Special Conditions for Checkout: \")\n",
    "    print(specials)\n",
    "        \n",
    "checkoutbooks(\"Sarah Connor\",\"1984\",\"Brave New World\",duration=\"3 weeks\",late_fee=\"$0.25\",renewals_allowed=\"2\",specials=(\"-Handle with care\") )\n",
    "    \n",
    "    "
   ]
  },
  {
   "cell_type": "code",
   "execution_count": null,
   "id": "d8116be0",
   "metadata": {},
   "outputs": [],
   "source": []
  }
 ],
 "metadata": {
  "kernelspec": {
   "display_name": "Python 3 (ipykernel)",
   "language": "python",
   "name": "python3"
  },
  "language_info": {
   "codemirror_mode": {
    "name": "ipython",
    "version": 3
   },
   "file_extension": ".py",
   "mimetype": "text/x-python",
   "name": "python",
   "nbconvert_exporter": "python",
   "pygments_lexer": "ipython3",
   "version": "3.11.5"
  }
 },
 "nbformat": 4,
 "nbformat_minor": 5
}
