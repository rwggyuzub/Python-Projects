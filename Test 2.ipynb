{
 "cells": [
  {
   "cell_type": "code",
   "execution_count": 1,
   "id": "2850cb79",
   "metadata": {},
   "outputs": [
    {
     "data": {
      "image/png": "[encoded data removed]",
      "text/plain": [
       "<Figure size 640x480 with 1 Axes>"
      ]
     },
     "metadata": {},
     "output_type": "display_data"
    }
   ],
   "source": [
    "#Question 1\n",
    "\n",
    "#import library\n",
    "import numpy as np\n",
    "import scipy as sc\n",
    "import matplotlib.pyplot as plt\n",
    "\n",
    "#diffrential equation\n",
    "def dYdt(y,t):\n",
    "    dydt=-2*y*t\n",
    "    return dydt\n",
    "\n",
    "#create x axis for integration\n",
    "start=0\n",
    "end=2\n",
    "t=np.linspace(start,end,10)\n",
    "\n",
    "y0=1\n",
    "\n",
    "#integration of diffrential equation\n",
    "Y=sc.integrate.odeint(dYdt,y0,t)\n",
    "\n",
    "#plot reuslt\n",
    "plt.figure()\n",
    "plt.plot(t,Y,'r',label='dy/dt')\n",
    "plt.title('y(t) versus (t)')\n",
    "plt.xlabel('t')\n",
    "plt.ylabel('y')\n",
    "plt.show()"
   ]
  },
  {
   "cell_type": "code",
   "execution_count": 3,
   "id": "9e0575d8",
   "metadata": {},
   "outputs": [
    {
     "name": "stdout",
     "output_type": "stream",
     "text": [
      "[[ 4.5]\n",
      " [-7.5]\n",
      " [ 6.5]]\n"
     ]
    }
   ],
   "source": [
    "#Question 2\n",
    "\n",
    "#import library\n",
    "import numpy as np\n",
    "import scipy as sc\n",
    "\n",
    "#define coefficient matrix A\n",
    "A=np.array([[2,4,6],[5,3,2],[7,8,9]])\n",
    "\n",
    "#Define constant vector B]\n",
    "B=np.array([[18],[13],[30]])\n",
    "\n",
    "#use solve function to find the solution vector\n",
    "C=np.linalg.solve(A,B)\n",
    "\n",
    "print(C)"
   ]
  },
  {
   "cell_type": "code",
   "execution_count": null,
   "id": "343663b1",
   "metadata": {},
   "outputs": [],
   "source": [
    "#Question 3\n",
    "\n",
    "#import necessary library\n",
    "import requests\n",
    "import matplotlib.pyplot as plt\n",
    "\n",
    "url=\"https://api.open-meteo.com/v1/forecast\"\n",
    "response=requests.get(url)\n",
    "\n",
    "parameters=\"latitude=2.375&longitude=112.5&timezone=Asia/Singapore\"\n",
    "\n",
    "try:\n",
    "    day=int(input(\"Please enter number of days with range 1 to 16:\"))\n",
    "    if 1<=day<=17:\n",
    "        onedayT=\"https://api.open-meteo.com/v1/forecast?latitude=2.5&longitude=112.5&hourly=temperature_2m&timezone=Asia%2FSingapore&forecast_days={day}\"\n",
    "        result=requests.get(onedayT)\n",
    "        hourT_is=result.json()\n",
    "        hourT=json.loads(hourT_is)\n",
    "       \n",
    "        #extract data\n",
    "        time=hourT[\"time\"]\n",
    "        temp=hourT[\"temperature_2m\"]\n",
    "        lat=hourT[\"latitude\"]\n",
    "        long=hourT[\"longitude\"]\n",
    "        ele=hourT[\"elevation\"]\n",
    "    \n",
    "        #plot graph\n",
    "        plt.figure()\n",
    "        plt.plot(time.temp,'b')\n",
    "        plt.tile(\"{days} forecasts temperature at latitude{lat} and longitude{long} with elevation{ele}\")\n",
    "        plt.xlabel(\"Time(hour)\")\n",
    "        plt.ylabel(\"Temperature in degree C\")\n",
    "        plt.grid(True,which='both',linestyle='--', linewidth=0.5)\n",
    "        plt.show()\n",
    "    \n",
    "    else: print(\"The number is not int the range\")\n",
    "    \n",
    "except ValueError:\n",
    "    print(\"The number of days is not an integer.\")"
   ]
  },
  {
   "cell_type": "code",
   "execution_count": null,
   "id": "f85c7af4",
   "metadata": {},
   "outputs": [],
   "source": []
  }
 ],
 "metadata": {
  "kernelspec": {
   "display_name": "Python 3 (ipykernel)",
   "language": "python",
   "name": "python3"
  },
  "language_info": {
   "codemirror_mode": {
    "name": "ipython",
    "version": 3
   },
   "file_extension": ".py",
   "mimetype": "text/x-python",
   "name": "python",
   "nbconvert_exporter": "python",
   "pygments_lexer": "ipython3",
   "version": "3.11.5"
  }
 },
 "nbformat": 4,
 "nbformat_minor": 5
}
