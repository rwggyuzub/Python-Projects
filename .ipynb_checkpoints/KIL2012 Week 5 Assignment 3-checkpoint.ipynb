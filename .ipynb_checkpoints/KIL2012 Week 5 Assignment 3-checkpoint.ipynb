{
 "cells": [
  {
   "cell_type": "code",
   "execution_count": 39,
   "id": "0c435f2c",
   "metadata": {},
   "outputs": [],
   "source": [
    "def simple_calculator():\n",
    "\n",
    "    try:\n",
    "        user_input1 = float(input(\"Enter the first number: \"))\n",
    "    except ValueError:\n",
    "        print(\"Please enter a valid number.\")\n",
    "                     \n",
    "    try:\n",
    "        user_input2 = float(input(\"Enter the second number: \"))\n",
    "    except ValueError:\n",
    "        print(\"Please enter a valid number.\")\n",
    "    \n",
    "    try:\n",
    "        user_input3 = input(\"Please choose a mathematical operation: addition, subtraction, multiplication or division. \")\n",
    "        if user_input3==\"addition\":\n",
    "            result=user_input1+user_input2\n",
    "            \n",
    "        elif user_input3==\"subtraction\":\n",
    "            result=user_input1-user_input2\n",
    "            \n",
    "        elif user_input3==\"multiplication\":\n",
    "            result=user_input1*user_input2 \n",
    "            \n",
    "        elif user_input3==\"division\":\n",
    "            try:\n",
    "                result=user_input1/user_input2\n",
    "            except ZeroDivisionError:\n",
    "                print(\"Division by zero is not allowed.\")\n",
    "        return result\n",
    "    except:\n",
    "        print(\"Please enter a valid mathematical operation.\")"
   ]
  },
  {
   "cell_type": "code",
   "execution_count": 41,
   "id": "5a05f2d7",
   "metadata": {},
   "outputs": [
    {
     "name": "stdout",
     "output_type": "stream",
     "text": [
      "Enter the first number: 1\n",
      "Enter the second number: 0\n",
      "Please choose a mathematical operation: addition, subtraction, multiplication or division. division\n",
      "Division by zero is not allowed.\n",
      "Please enter a valid mathematical operation.\n",
      "None\n"
     ]
    }
   ],
   "source": [
    "print(simple_calculator())"
   ]
  },
  {
   "cell_type": "code",
   "execution_count": null,
   "id": "1131d2bc",
   "metadata": {},
   "outputs": [],
   "source": [
    "#Tutor answer\n",
    "def simple_calculator():\n",
    "    while True:\n",
    "        try:\n",
    "            #Ask the user for two numbers and an operation\n",
    "            num1=float(input(\"Enter the first number: \"))\n",
    "            num2=float(input(\"Enter the second number: \"))\n",
    "            operation=input(\"Enter an operation(+,-,*,/): \")\n",
    "            \n",
    "            #perform calculation based on the operatioon\n",
    "            if operation==\"+\":\n",
    "                result=num1+num2\n",
    "            elif operation==\"-\":\n",
    "                result=num1-num2\n",
    "            elif operation==\"*\":\n",
    "                result=num1*num2\n",
    "            elif operation==\"/\":\n",
    "                result=num1/num2\n",
    "            else:\n",
    "                print(\"Invalid operation. Please choose +,-,* or /.\")\n",
    "                continue\n",
    "            \n",
    "            #Display the result\n",
    "            print(\"The result is: (result)\")\n",
    "            break\n",
    "        \n",
    "        except ValueError:\n",
    "                print(\"Invalid input. Please enter a number.\")\n",
    "        except ZeroDivisionError:\n",
    "            print(\"Error: Cannor divide by zero.\")\n",
    "            \n",
    "                \n",
    "            "
   ]
  }
 ],
 "metadata": {
  "kernelspec": {
   "display_name": "Python 3 (ipykernel)",
   "language": "python",
   "name": "python3"
  },
  "language_info": {
   "codemirror_mode": {
    "name": "ipython",
    "version": 3
   },
   "file_extension": ".py",
   "mimetype": "text/x-python",
   "name": "python",
   "nbconvert_exporter": "python",
   "pygments_lexer": "ipython3",
   "version": "3.11.5"
  }
 },
 "nbformat": 4,
 "nbformat_minor": 5
}
