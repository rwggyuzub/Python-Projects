{
 "cells": [
  {
   "cell_type": "code",
   "execution_count": 12,
   "id": "b1806765",
   "metadata": {},
   "outputs": [
    {
     "name": "stdout",
     "output_type": "stream",
     "text": [
      "Filtered data saved to top students.csv\n"
     ]
    }
   ],
   "source": [
    "import csv\n",
    "\n",
    "def read_csv(filename):\n",
    "    data=[]\n",
    "    with open(filename,'r') as file:\n",
    "        csv_reader=csv.DictReader(file)\n",
    "        for row in csv_reader:\n",
    "            data.append(row)\n",
    "    return data\n",
    "\n",
    "def filter_students(data):\n",
    "    filtered_data=[]\n",
    "    for student in data:\n",
    "        if student['Grade']<='B':\n",
    "            filtered_data.append(student)\n",
    "    return filtered_data\n",
    "\n",
    "def add_status(data):\n",
    "    for student in data:\n",
    "        student['Status']='Passed'\n",
    "    return data\n",
    "\n",
    "def top_students(data,output_filename):\n",
    "    fieldnames=data[0].keys()\n",
    "    with open(output_filename,'w',newline='') as csvfile:\n",
    "        writer=csv.DictWriter(csvfile,fieldnames=fieldnames)\n",
    "        writer.writeheader()\n",
    "        writer.writerows(data)\n",
    "        \n",
    "if __name__=='__main__':\n",
    "    input_filename='students.csv'\n",
    "    output_filename='top students.csv'\n",
    "    \n",
    "    student_data=read_csv(input_filename)\n",
    "    filtered_students=filter_students(student_data)\n",
    "    students_with_status=add_status(filtered_students)\n",
    "    top_students(students_with_status,output_filename)\n",
    "    \n",
    "    print('Filtered data saved to '+ output_filename)"
   ]
  },
  {
   "cell_type": "code",
   "execution_count": null,
   "id": "4cf19020",
   "metadata": {},
   "outputs": [],
   "source": []
  }
 ],
 "metadata": {
  "kernelspec": {
   "display_name": "Python 3 (ipykernel)",
   "language": "python",
   "name": "python3"
  },
  "language_info": {
   "codemirror_mode": {
    "name": "ipython",
    "version": 3
   },
   "file_extension": ".py",
   "mimetype": "text/x-python",
   "name": "python",
   "nbconvert_exporter": "python",
   "pygments_lexer": "ipython3",
   "version": "3.11.5"
  }
 },
 "nbformat": 4,
 "nbformat_minor": 5
}
