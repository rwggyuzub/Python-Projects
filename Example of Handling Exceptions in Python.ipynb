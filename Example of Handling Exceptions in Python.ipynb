{
 "cells": [
  {
   "cell_type": "code",
   "execution_count": 3,
   "id": "f4971059",
   "metadata": {},
   "outputs": [
    {
     "name": "stdout",
     "output_type": "stream",
     "text": [
      "Enter a number: 5\n",
      "30\n"
     ]
    }
   ],
   "source": [
    "number= int(input(\"Enter a number: \"))\n",
    "\n",
    "\n",
    "a=10\n",
    "b=20\n",
    "\n",
    "print(a+b)"
   ]
  },
  {
   "cell_type": "code",
   "execution_count": 4,
   "id": "ba5e0ddc",
   "metadata": {},
   "outputs": [
    {
     "ename": "TypeError",
     "evalue": "can only concatenate str (not \"int\") to str",
     "output_type": "error",
     "traceback": [
      "\u001b[0;31m---------------------------------------------------------------------------\u001b[0m",
      "\u001b[0;31mTypeError\u001b[0m                                 Traceback (most recent call last)",
      "Cell \u001b[0;32mIn[4], line 1\u001b[0m\n\u001b[0;32m----> 1\u001b[0m x\u001b[38;5;241m=\u001b[39m\u001b[38;5;124m\"\u001b[39m\u001b[38;5;124m2\u001b[39m\u001b[38;5;124m\"\u001b[39m\u001b[38;5;241m+\u001b[39m\u001b[38;5;241m2\u001b[39m\n",
      "\u001b[0;31mTypeError\u001b[0m: can only concatenate str (not \"int\") to str"
     ]
    }
   ],
   "source": [
    "x=\"2\"+2"
   ]
  },
  {
   "cell_type": "code",
   "execution_count": 8,
   "id": "39cf28d6",
   "metadata": {},
   "outputs": [
    {
     "name": "stdout",
     "output_type": "stream",
     "text": [
      "The data that you input is not an integer.\n"
     ]
    }
   ],
   "source": [
    "try:\n",
    "    x=\"2\"+2\n",
    "    #code that might raise an exxception\n",
    "except:\n",
    "    #code that runs if the exception occur\n",
    "    print(\"The data that you input is not an integer.\")"
   ]
  },
  {
   "cell_type": "code",
   "execution_count": 11,
   "id": "f83170e2",
   "metadata": {},
   "outputs": [
    {
     "name": "stdout",
     "output_type": "stream",
     "text": [
      "Please enter a valid number abc\n"
     ]
    },
    {
     "ename": "ValueError",
     "evalue": "invalid literal for int() with base 10: 'abc'",
     "output_type": "error",
     "traceback": [
      "\u001b[0;31m---------------------------------------------------------------------------\u001b[0m",
      "\u001b[0;31mValueError\u001b[0m                                Traceback (most recent call last)",
      "Cell \u001b[0;32mIn[11], line 1\u001b[0m\n\u001b[0;32m----> 1\u001b[0m number \u001b[38;5;241m=\u001b[39m \u001b[38;5;28mint\u001b[39m(\u001b[38;5;28minput\u001b[39m(\u001b[38;5;124m\"\u001b[39m\u001b[38;5;124mPlease enter a valid number \u001b[39m\u001b[38;5;124m\"\u001b[39m))\n",
      "\u001b[0;31mValueError\u001b[0m: invalid literal for int() with base 10: 'abc'"
     ]
    }
   ],
   "source": [
    "number = int(input(\"Please enter a valid number \"))"
   ]
  },
  {
   "cell_type": "code",
   "execution_count": 12,
   "id": "1e461a04",
   "metadata": {},
   "outputs": [
    {
     "name": "stdout",
     "output_type": "stream",
     "text": [
      "Please enter a valid number rrrrr\n",
      "The input data is not an number\n"
     ]
    }
   ],
   "source": [
    "try:\n",
    "    number = int(input(\"Please enter a valid number \"))\n",
    "except:\n",
    "    print(\"The input data is not an number\")"
   ]
  },
  {
   "cell_type": "code",
   "execution_count": 13,
   "id": "fe0bd0d9",
   "metadata": {},
   "outputs": [
    {
     "ename": "IndexError",
     "evalue": "list index out of range",
     "output_type": "error",
     "traceback": [
      "\u001b[0;31m---------------------------------------------------------------------------\u001b[0m",
      "\u001b[0;31mIndexError\u001b[0m                                Traceback (most recent call last)",
      "Cell \u001b[0;32mIn[13], line 3\u001b[0m\n\u001b[1;32m      1\u001b[0m my_list\u001b[38;5;241m=\u001b[39m[\u001b[38;5;241m1\u001b[39m,\u001b[38;5;241m2\u001b[39m,\u001b[38;5;241m3\u001b[39m]\n\u001b[0;32m----> 3\u001b[0m my_list[\u001b[38;5;241m3\u001b[39m]\n",
      "\u001b[0;31mIndexError\u001b[0m: list index out of range"
     ]
    }
   ],
   "source": [
    "my_list=[1,2,3]\n",
    "\n",
    "my_list[3]"
   ]
  },
  {
   "cell_type": "code",
   "execution_count": 14,
   "id": "6390fc13",
   "metadata": {},
   "outputs": [
    {
     "data": {
      "text/plain": [
       "3"
      ]
     },
     "execution_count": 14,
     "metadata": {},
     "output_type": "execute_result"
    }
   ],
   "source": [
    "my_list[2]"
   ]
  },
  {
   "cell_type": "code",
   "execution_count": 15,
   "id": "4220c3e2",
   "metadata": {},
   "outputs": [
    {
     "name": "stdout",
     "output_type": "stream",
     "text": [
      "The value is not exits.\n"
     ]
    }
   ],
   "source": [
    "try:\n",
    "    my_list[10]\n",
    "    print(\"The value is exits in the list.\")\n",
    "except:\n",
    "    print(\"The value is not exits.\")"
   ]
  },
  {
   "cell_type": "code",
   "execution_count": 16,
   "id": "30bd8ce6",
   "metadata": {},
   "outputs": [
    {
     "name": "stdout",
     "output_type": "stream",
     "text": [
      "The value is exits in the list.\n"
     ]
    }
   ],
   "source": [
    "try:\n",
    "    my_list[1]\n",
    "    print(\"The value is exits in the list.\")\n",
    "except:\n",
    "    print(\"The value is not exits.\")"
   ]
  },
  {
   "cell_type": "code",
   "execution_count": 20,
   "id": "c20e2003",
   "metadata": {},
   "outputs": [
    {
     "name": "stdout",
     "output_type": "stream",
     "text": [
      "Enter a number: 1\n",
      "You entered a number!\n",
      "This is executed no matter what!\n"
     ]
    }
   ],
   "source": [
    "try:\n",
    "    number=int(input(\"Enter a number: \"))\n",
    "except ValueError:\n",
    "    print(\"That is not a number.\")\n",
    "else:\n",
    "    print(\"You entered a number!\")\n",
    "finally:\n",
    "    print(\"This is executed no matter what!\")"
   ]
  },
  {
   "cell_type": "code",
   "execution_count": 22,
   "id": "81a9489e",
   "metadata": {},
   "outputs": [
    {
     "name": "stdout",
     "output_type": "stream",
     "text": [
      "Enter a number: 0\n",
      "Division by zero is not allowed.\n"
     ]
    }
   ],
   "source": [
    "try:\n",
    "    user_input = input(\"Enter a number: \") \n",
    "    result = 1 / int(user_input) \n",
    "    print(result)\n",
    "except ValueError:\n",
    "    print(\"Please enter a valid integer.\")\n",
    "except ZeroDivisionError:\n",
    "    print(\"Division by zero is not allowed.\")"
   ]
  },
  {
   "cell_type": "code",
   "execution_count": null,
   "id": "443cf96f",
   "metadata": {},
   "outputs": [],
   "source": [
    "\n",
    "   "
   ]
  }
 ],
 "metadata": {
  "kernelspec": {
   "display_name": "Python 3 (ipykernel)",
   "language": "python",
   "name": "python3"
  },
  "language_info": {
   "codemirror_mode": {
    "name": "ipython",
    "version": 3
   },
   "file_extension": ".py",
   "mimetype": "text/x-python",
   "name": "python",
   "nbconvert_exporter": "python",
   "pygments_lexer": "ipython3",
   "version": "3.11.5"
  }
 },
 "nbformat": 4,
 "nbformat_minor": 5
}
